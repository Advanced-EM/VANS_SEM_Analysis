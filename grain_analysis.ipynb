version https://git-lfs.github.com/spec/v1
oid sha256:4aa0dc486a8ebf69be4b7ef70d3fd77a2bc38fc2fb2a4a420118eb4859ed693c
size 14353613
